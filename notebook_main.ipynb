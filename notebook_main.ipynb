{
 "cells": [
  {
   "cell_type": "markdown",
   "id": "fb379188-3cd3-4553-90d6-85f025c0bf5d",
   "metadata": {},
   "source": [
    "Time taken for completion == 4.5 hours\n",
    "\n",
    "- The file requirements.txt contains the packages required to run the notebook\n",
    "- Quantized model is stored in the path \"MISHA_RANA/tflitetfliteModels/tflite_quantized_model.tflite\"\n",
    "- The folder dataset should contain the provided dataset having 'train' and 'test' folders. \n",
    "- Auxiliary files : lrfinder.py and find_LR_auxilliary.ipynb "
   ]
  },
  {
   "cell_type": "markdown",
   "id": "6cec4ccc-58b6-4f54-b56b-826c5d70016e",
   "metadata": {
    "id": "6cec4ccc-58b6-4f54-b56b-826c5d70016e"
   },
   "source": [
    "# Data Preparation"
   ]
  },
  {
   "cell_type": "markdown",
   "id": "1cb1ee55-4a27-47c9-987c-95b5f35b300c",
   "metadata": {},
   "source": [
    "- For data preparation the given training data was split into training and validation sets in 80:20 rario respectively. \n",
    "\n",
    "- The test data has been left untouched for evaluation. "
   ]
  },
  {
   "cell_type": "code",
   "execution_count": 8,
   "id": "23e1e8d9-f541-4431-bebb-62212027bd98",
   "metadata": {
    "id": "23e1e8d9-f541-4431-bebb-62212027bd98",
    "tags": []
   },
   "outputs": [],
   "source": [
    "import os\n",
    "from shutil import copyfile, copytree\n",
    "import numpy as np\n",
    "import cv2\n",
    "from PIL import Image\n",
    "import time\n",
    "import seaborn as sns\n",
    "import matplotlib.pyplot as plt\n",
    "import sklearn\n",
    "from sklearn.metrics import classification_report\n",
    "from sklearn.metrics import accuracy_score\n",
    "from sklearn.metrics import confusion_matrix\n",
    "import warnings"
   ]
  },
  {
   "cell_type": "code",
   "execution_count": 9,
   "id": "84be7fad-d48c-4a98-8f58-98818cc49912",
   "metadata": {
    "id": "84be7fad-d48c-4a98-8f58-98818cc49912",
    "tags": []
   },
   "outputs": [],
   "source": [
    "!mkdir data\n",
    "!mkdir data/train\n",
    "!mkdir data/valid\n"
   ]
  },
  {
   "cell_type": "code",
   "execution_count": 10,
   "id": "10fc1273-f279-4b82-b57f-0f384d2b6415",
   "metadata": {
    "id": "10fc1273-f279-4b82-b57f-0f384d2b6415",
    "tags": []
   },
   "outputs": [],
   "source": [
    "DATA_DIR = \"dataset/\"   # original data path \n",
    "NEW_DATA_DIR = \"data/\"  # path to the train, val and test data"
   ]
  },
  {
   "cell_type": "code",
   "execution_count": 11,
   "id": "2d5e1039-ecb7-4458-afd5-56588e1a0c4c",
   "metadata": {
    "colab": {
     "base_uri": "https://localhost:8080/"
    },
    "id": "2d5e1039-ecb7-4458-afd5-56588e1a0c4c",
    "outputId": "02ef3384-780f-4baf-fbd8-d9234f8a2d5f",
    "tags": []
   },
   "outputs": [
    {
     "name": "stdout",
     "output_type": "stream",
     "text": [
      "41 206 blackspot\n",
      "40 201 canker\n",
      "77 388 fresh\n",
      "73 369 grenning\n"
     ]
    }
   ],
   "source": [
    "import random\n",
    "from shutil import copyfile\n",
    "for x in os.listdir(os.path.join(DATA_DIR, 'train/')):\n",
    "    if x == \".DS_Store\" or x == \".ipynb_checkpoints\":\n",
    "        pass\n",
    "    else:\n",
    "        images = os.listdir(os.path.join(DATA_DIR, 'train/')+x)\n",
    "        random.shuffle(images)\n",
    "        break_idx = int(0.2*len(images))\n",
    "        print(break_idx,len(images),x)\n",
    "        if(not os.path.isdir(os.path.join(NEW_DATA_DIR, 'valid/')+x)):\n",
    "            os.mkdir(os.path.join(NEW_DATA_DIR, 'valid/')+x)\n",
    "        if(not os.path.isdir(os.path.join(NEW_DATA_DIR, 'train/')+x)):\n",
    "            os.mkdir(os.path.join(NEW_DATA_DIR, 'train/')+x)\n",
    "                    \n",
    "        for idx in range(len(images)):\n",
    "            if(idx>=break_idx):\n",
    "                copyfile(os.path.join(DATA_DIR, 'train/')+x+\"/\"+images[idx],os.path.join(NEW_DATA_DIR, 'train/')+x+\"/\"+images[idx])\n",
    "            else:\n",
    "                copyfile(os.path.join(DATA_DIR, 'train/')+x+\"/\"+images[idx],os.path.join(NEW_DATA_DIR, 'valid/')+x+\"/\"+images[idx])"
   ]
  },
  {
   "cell_type": "code",
   "execution_count": 12,
   "id": "f288a04b-d65c-45d6-b0d1-3b5546ae79c8",
   "metadata": {
    "id": "f288a04b-d65c-45d6-b0d1-3b5546ae79c8",
    "tags": []
   },
   "outputs": [],
   "source": [
    "# Copy test data \n",
    "src = os.path.join(DATA_DIR,'test/')\n",
    "dest = os.path.join(NEW_DATA_DIR,'test/')\n",
    "destination = copytree(src, dest) "
   ]
  },
  {
   "cell_type": "markdown",
   "id": "3d9f101e-5c81-42a8-8d32-157418bb3365",
   "metadata": {
    "id": "3d9f101e-5c81-42a8-8d32-157418bb3365"
   },
   "source": [
    "# Data visualisation\n"
   ]
  },
  {
   "cell_type": "markdown",
   "id": "61d7ff87-fea9-4777-9f59-f471773dfae0",
   "metadata": {},
   "source": [
    "- The count of each class has been visualised using a bar graph. \n",
    "- The resultant graph shows that there are more samples belonging to 'fresh' and 'grening' classes than 'blackspot' and 'canker' classes. "
   ]
  },
  {
   "cell_type": "code",
   "execution_count": 13,
   "id": "0bcec736-607f-40eb-988d-9fc790c70b25",
   "metadata": {
    "id": "0bcec736-607f-40eb-988d-9fc790c70b25",
    "tags": []
   },
   "outputs": [],
   "source": [
    "import pandas as pd # data processing, CSV file I/O (e.g. pd.read_csv)\n",
    "import os\n",
    "import cv2\n",
    "import glob\n",
    "import matplotlib.pyplot as plt"
   ]
  },
  {
   "cell_type": "code",
   "execution_count": 14,
   "id": "719b1edd-fabc-4d1e-9bd6-13de79fd294a",
   "metadata": {
    "id": "719b1edd-fabc-4d1e-9bd6-13de79fd294a",
    "tags": []
   },
   "outputs": [],
   "source": [
    "APP_FOLDER=os.path.join(DATA_DIR,'train/') #folder with entire data\n",
    "\n",
    "\n",
    "totalFiles = 0 # total files\n",
    "df = []\n",
    "for dirpath, dirnames, filenames in os.walk(APP_FOLDER):\n",
    "    counter = len(filenames)\n",
    "    totalFiles += counter\n",
    "    className = dirpath.split('/')[-1]\n",
    "    if className != \"\":\n",
    "        df.append([className, counter])"
   ]
  },
  {
   "cell_type": "code",
   "execution_count": 20,
   "id": "745fc81f-b3ae-4c27-abc1-234f1f4bf6ce",
   "metadata": {
    "colab": {
     "base_uri": "https://localhost:8080/",
     "height": 351
    },
    "id": "745fc81f-b3ae-4c27-abc1-234f1f4bf6ce",
    "outputId": "dec38b71-1d12-44d1-a7c8-b7287c524f0d",
    "tags": []
   },
   "outputs": [
    {
     "data": {
      "image/png": "[encoded data removed]",
      "text/plain": [
       "<Figure size 432x288 with 1 Axes>"
      ]
     },
     "metadata": {
      "needs_background": "light"
     },
     "output_type": "display_data"
    },
    {
     "data": {
      "text/plain": [
       "<Figure size 432x144 with 0 Axes>"
      ]
     },
     "metadata": {},
     "output_type": "display_data"
    },
    {
     "data": {
      "text/plain": [
       "<Figure size 432x288 with 0 Axes>"
      ]
     },
     "metadata": {},
     "output_type": "display_data"
    }
   ],
   "source": [
    "df = pd.DataFrame(df,columns=['Class','Count'])\n",
    "df.plot(x ='Class', y='Count', kind = 'bar', color = \"blue\")\n",
    "f = plt.figure()\n",
    "f.set_figwidth(6)\n",
    "f.set_figheight(2)\n",
    "plt.show()\n",
    "plt.savefig(\"data_distribution.png\")\n"
   ]
  },
  {
   "cell_type": "markdown",
   "id": "fe6a32ac-d511-4b56-8817-3f53b2ca0d55",
   "metadata": {
    "id": "fe6a32ac-d511-4b56-8817-3f53b2ca0d55",
    "tags": []
   },
   "source": [
    "# Data Loading"
   ]
  },
  {
   "cell_type": "markdown",
   "id": "eb9a070a-9df2-4a46-a694-d23db9b12673",
   "metadata": {},
   "source": [
    "- The data is loaded into train, vaild and test batches. \n",
    "- THe train and valid batches will be used for training and test batch will be used during model evaluation. "
   ]
  },
  {
   "cell_type": "code",
   "execution_count": 16,
   "id": "e2e800f8-60de-4e3c-8e67-ef912218cf6d",
   "metadata": {
    "colab": {
     "base_uri": "https://localhost:8080/"
    },
    "id": "e2e800f8-60de-4e3c-8e67-ef912218cf6d",
    "outputId": "f95a957e-4fb5-4f84-cdce-6e52dfc814c4",
    "tags": []
   },
   "outputs": [
    {
     "name": "stdout",
     "output_type": "stream",
     "text": [
      "2.9.1\n"
     ]
    }
   ],
   "source": [
    "import tensorflow as tf\n",
    "from tensorflow.keras.layers.experimental import preprocessing\n",
    "from tensorflow.keras import layers\n",
    "from tensorflow.keras.models import Sequential\n",
    "from tensorflow.keras.preprocessing.image import ImageDataGenerator\n",
    "print(tf. __version__) "
   ]
  },
  {
   "cell_type": "code",
   "execution_count": 17,
   "id": "42d9061a-806e-4819-a6ac-4370cd9d5a92",
   "metadata": {
    "id": "42d9061a-806e-4819-a6ac-4370cd9d5a92",
    "tags": []
   },
   "outputs": [],
   "source": [
    "train_path = os.path.join(NEW_DATA_DIR,\"train/\")\n",
    "valid_path = os.path.join(NEW_DATA_DIR,\"valid/\")\n",
    "test_path = os.path.join(NEW_DATA_DIR,\"test/\")\n"
   ]
  },
  {
   "cell_type": "code",
   "execution_count": null,
   "id": "2mv-ws26C2_W",
   "metadata": {
    "id": "2mv-ws26C2_W"
   },
   "outputs": [],
   "source": [
    "train_batches = ImageDataGenerator(rotation_range=20 , horizontal_flip = True, preprocessing_function=tf.keras.applications.efficientnet.preprocess_input).flow_from_directory(\n",
    "        directory=train_path,shuffle=True, target_size=(224,224), batch_size=10)\n",
    "valid_batches = ImageDataGenerator(rotation_range=20 , horizontal_flip = True,preprocessing_function=tf.keras.applications.efficientnet.preprocess_input).flow_from_directory(\n",
    "        directory=valid_path, shuffle=True, target_size=(224,224), batch_size=10)\n",
    "test_batches = ImageDataGenerator(preprocessing_function=tf.keras.applications.efficientnet.preprocess_input).flow_from_directory(\n",
    "        directory=test_path, target_size=(224,224), batch_size=10, shuffle=False)\n",
    "    "
   ]
  },
  {
   "cell_type": "code",
   "execution_count": 18,
   "id": "f291fb78-6f2a-4d91-8493-1aadb902276b",
   "metadata": {
    "colab": {
     "base_uri": "https://localhost:8080/"
    },
    "id": "f291fb78-6f2a-4d91-8493-1aadb902276b",
    "outputId": "3bfb790a-3bb3-4d20-c121-c6000f99b614",
    "tags": []
   },
   "outputs": [
    {
     "name": "stdout",
     "output_type": "stream",
     "text": [
      "Found 933 images belonging to 4 classes.\n",
      "Found 231 images belonging to 4 classes.\n",
      "Found 626 images belonging to 4 classes.\n"
     ]
    }
   ],
   "source": [
    "train_batches = ImageDataGenerator(preprocessing_function=tf.keras.applications.efficientnet.preprocess_input).flow_from_directory(\n",
    "        directory=train_path,shuffle=True, target_size=(224,224), batch_size=10)\n",
    "valid_batches = ImageDataGenerator(preprocessing_function=tf.keras.applications.efficientnet.preprocess_input).flow_from_directory(\n",
    "        directory=valid_path, shuffle=True, target_size=(224,224), batch_size=10)\n",
    "test_batches = ImageDataGenerator(preprocessing_function=tf.keras.applications.efficientnet.preprocess_input).flow_from_directory(\n",
    "        directory=test_path, target_size=(224,224), batch_size=10, shuffle=False)\n",
    "    "
   ]
  },
  {
   "cell_type": "code",
   "execution_count": 19,
   "id": "av_XZD-D9GYj",
   "metadata": {
    "colab": {
     "base_uri": "https://localhost:8080/"
    },
    "id": "av_XZD-D9GYj",
    "outputId": "77bc6602-ab72-47a2-cf6d-821ac4640335"
   },
   "outputs": [
    {
     "name": "stdout",
     "output_type": "stream",
     "text": [
      "{'blackspot': 0, 'canker': 1, 'fresh': 2, 'grenning': 3}\n"
     ]
    }
   ],
   "source": [
    "print(train_batches.class_indices)  "
   ]
  },
  {
   "cell_type": "markdown",
   "id": "c459e005-c0d7-484f-8294-b4d31c093ff8",
   "metadata": {
    "tags": []
   },
   "source": [
    "# Training description : "
   ]
  },
  {
   "cell_type": "markdown",
   "id": "28554c4d-dc40-49cd-8bf9-23f4904c798d",
   "metadata": {
    "id": "28554c4d-dc40-49cd-8bf9-23f4904c798d"
   },
   "source": [
    "- ##  Model Architecture\n"
   ]
  },
  {
   "cell_type": "markdown",
   "id": "9d0827b0-3bee-4b31-9410-ab29d94930f6",
   "metadata": {},
   "source": [
    "- **Base Model**: \n",
    "    - The network is based on EfficientNet-B0, which is the baseline network. EfficientNet is chosen as it is smaller in size, faster and has achieved state of the art accuracy on the ImageNet dataset. Transfer learning approach has been used to train the architecture. \n",
    "\n",
    "    - A pretrained EfficientNet-B0 trained on imagenet dataset is used as the base model. \n",
    "   \n",
    "\n",
    "\n",
    "- **Classification Model**: \n",
    "    - To create our own classification stack on top of the EfficientNet-B0 convolutional base model, GlobalAveragePooling2D layer is used to convert the 4D tensor (batch_size, rows, cols, channels), to 2D tensor with shape (batch_size, channels). Compared to the Flatten layer, GlobalAveragePooling2D reduces the number of parameters. This is followed by a BatchNormalization layer -> Dropout -> Dense (512) ->LeakyReLU Activation function -> Dense(4).\n",
    "    -  LeakyReLU has been used because it has the advantage that instead of sending negative values to zero, a very small slope parameter is used which incorporates some information from negative values.\n",
    "    -  Softmax activation has been applied to the last Dense layer with 4 output neurons.  \n",
    "    - We also apply augmentations:  RandomRotation, CenterCrop, RandomTranslation, RandomFlip and Randomcontrast on the input images before feeding them into the model. "
   ]
  },
  {
   "cell_type": "code",
   "execution_count": 21,
   "id": "b88f0d7c-2139-4d55-b71c-014564e1787b",
   "metadata": {
    "id": "b88f0d7c-2139-4d55-b71c-014564e1787b",
    "tags": []
   },
   "outputs": [],
   "source": [
    "# Imports\n",
    "import tensorflow as tf\n",
    "from tensorflow.keras.layers.experimental import preprocessing\n",
    "from tensorflow.keras import layers\n",
    "from tensorflow.keras.models import Sequential\n",
    "from tensorflow.keras.preprocessing.image import ImageDataGenerator\n",
    "\n",
    "# Import the Desired Version of EfficientNet\n",
    "from tensorflow.keras.applications import EfficientNetB0\n"
   ]
  },
  {
   "cell_type": "markdown",
   "id": "9a179211-fcb8-4117-9608-1fc7b722e7cd",
   "metadata": {},
   "source": [
    "- # Hyperparameters"
   ]
  },
  {
   "cell_type": "markdown",
   "id": "613e6474-b397-48c0-bcdf-b1a2cac50e7c",
   "metadata": {},
   "source": [
    "- LEARNING RATE : Lerning Rate is set to 0.001. This was chosen based on the LRFinder algorithm (code attached) which suggested an optimal learning rate (steep curve) between 1e-3 and less than 1e-2. Hence, 0.001 is a good value for learning rate\n",
    "                ![An image](LRFinder.png)\n",
    "- EPOCHS : The number of epochs was chosen as 10 but **early stopping** callback was applied to prevent overfitting.  The **validation loss** is monitored for early stopping with a patience=3 .The model trains for 6 epochs before callback halts training.\n",
    "\n",
    "- LOSS : **Categorical cross-entropy** has been chossen as the loss function because the problem is multi-class classification. \n",
    "\n",
    "- OPTIMISER : Adam optimiser has been chosen with a leraning rate of 0.001 because of its speed of computation and it requries fewer parameters for tuning. "
   ]
  },
  {
   "cell_type": "code",
   "execution_count": 22,
   "id": "zfPLQuUqvqyS",
   "metadata": {
    "id": "zfPLQuUqvqyS"
   },
   "outputs": [],
   "source": [
    "NUM_CLASSES = 4\n",
    "EPOCHS = 10 \n",
    "LEARNING_RATE = 0.001\n",
    "class_names = ['blackspot', 'canker', 'fresh', 'grenning']"
   ]
  },
  {
   "cell_type": "code",
   "execution_count": 23,
   "id": "v7qcZEA2v3Lx",
   "metadata": {
    "id": "v7qcZEA2v3Lx"
   },
   "outputs": [],
   "source": [
    "img_augmentation = Sequential(\n",
    "    [\n",
    "        preprocessing.RandomRotation(factor=0.15),\n",
    "        preprocessing.RandomTranslation(height_factor=0.1, width_factor=0.1),\n",
    "        preprocessing.RandomFlip(),\n",
    "        preprocessing.RandomContrast(factor=0.1),\n",
    "        preprocessing.CenterCrop(224,224)\n",
    "    ],\n",
    "    name=\"img_augmentation\",\n",
    ")\n"
   ]
  },
  {
   "cell_type": "code",
   "execution_count": 24,
   "id": "2b3df854-30aa-4d3f-913c-7200100c1f07",
   "metadata": {
    "id": "2b3df854-30aa-4d3f-913c-7200100c1f07",
    "tags": []
   },
   "outputs": [],
   "source": [
    "def build_model(NUM_CLASSES):\n",
    "    inputs = layers.Input(shape=(224, 224, 3))\n",
    "    x = img_augmentation(inputs)\n",
    "    #Using the imported version of EfficientNet\n",
    "    model = EfficientNetB0(include_top=False, input_tensor=x, weights=\"imagenet\")\n",
    "    # Freeze the pretrained weights\n",
    "    model.trainable = False\n",
    "\n",
    "\n",
    "    # Rebuild top\n",
    "    x = layers.GlobalAveragePooling2D(name=\"avg_pool\")(model.output)\n",
    "    x = layers.BatchNormalization()(x)\n",
    "    x = layers.Dropout(0.3, name=\"top_dropout_1\")(x)\n",
    "    x = layers.Dense(512, name = \"top_dense\")(x)\n",
    "    x = layers.Dropout(0.2, name=\"top_dropout_2\")(x)\n",
    "    x = layers.LeakyReLU( name=\"top_actviation\")(x)\n",
    " \n",
    "    outputs = layers.Dense(NUM_CLASSES, activation=\"softmax\", name=\"pred\")(x)\n",
    "\n",
    "    # Compile\n",
    "    model = tf.keras.Model(inputs, outputs, name=\"EfficientNet\")\n",
    "    optimizer = tf.keras.optimizers.Adam(learning_rate=LEARNING_RATE)\n",
    "    model.compile(\n",
    "        optimizer=optimizer, loss=\"categorical_crossentropy\", metrics=[\"accuracy\"]\n",
    "    )\n",
    "    return model\n",
    "\n"
   ]
  },
  {
   "cell_type": "code",
   "execution_count": 25,
   "id": "abd35dc9-4e35-4db2-a463-1885ed60601d",
   "metadata": {
    "id": "abd35dc9-4e35-4db2-a463-1885ed60601d",
    "tags": []
   },
   "outputs": [],
   "source": [
    "def unfreeze_model(model):\n",
    "    # We unfreeze the top 20 layers while leaving BatchNorm layers frozen\n",
    "    for layer in model.layers[-20:]:\n",
    "        if not isinstance(layer, layers.BatchNormalization):\n",
    "            layer.trainable = True\n",
    "\n",
    "    optimizer = tf.keras.optimizers.Adam(learning_rate=LEARNING_RATE)\n",
    "    model.compile(\n",
    "        optimizer=optimizer, loss=\"categorical_crossentropy\", metrics=[\"accuracy\"]\n",
    "    )\n",
    "    "
   ]
  },
  {
   "cell_type": "code",
   "execution_count": 26,
   "id": "db7210e6-c7b7-49a7-9fc3-60656dd9034c",
   "metadata": {
    "colab": {
     "base_uri": "https://localhost:8080/"
    },
    "id": "db7210e6-c7b7-49a7-9fc3-60656dd9034c",
    "outputId": "6d76a4f5-af5b-4add-8935-84c9859eada8",
    "tags": []
   },
   "outputs": [
    {
     "name": "stderr",
     "output_type": "stream",
     "text": [
      "WARNING:tensorflow:Using a while_loop for converting RngReadAndSkip\n",
      "WARNING:tensorflow:Using a while_loop for converting Bitcast\n",
      "WARNING:tensorflow:Using a while_loop for converting Bitcast\n",
      "WARNING:tensorflow:Using a while_loop for converting StatelessRandomUniformV2\n",
      "WARNING:tensorflow:Using a while_loop for converting RngReadAndSkip\n",
      "WARNING:tensorflow:Using a while_loop for converting Bitcast\n",
      "WARNING:tensorflow:Using a while_loop for converting Bitcast\n",
      "WARNING:tensorflow:Using a while_loop for converting StatelessRandomUniformV2\n",
      "WARNING:tensorflow:Using a while_loop for converting ImageProjectiveTransformV3\n",
      "WARNING:tensorflow:Using a while_loop for converting RngReadAndSkip\n",
      "WARNING:tensorflow:Using a while_loop for converting Bitcast\n",
      "WARNING:tensorflow:Using a while_loop for converting Bitcast\n",
      "WARNING:tensorflow:Using a while_loop for converting StatelessRandomUniformFullIntV2\n",
      "WARNING:tensorflow:Using a while_loop for converting StatelessRandomGetKeyCounter\n",
      "WARNING:tensorflow:Using a while_loop for converting StatelessRandomUniformV2\n",
      "WARNING:tensorflow:Using a while_loop for converting AdjustContrastv2\n",
      "WARNING:tensorflow:Using a while_loop for converting RngReadAndSkip\n",
      "WARNING:tensorflow:Using a while_loop for converting Bitcast\n",
      "WARNING:tensorflow:Using a while_loop for converting Bitcast\n",
      "WARNING:tensorflow:Using a while_loop for converting StatelessRandomUniformV2\n",
      "WARNING:tensorflow:Using a while_loop for converting RngReadAndSkip\n",
      "WARNING:tensorflow:Using a while_loop for converting Bitcast\n",
      "WARNING:tensorflow:Using a while_loop for converting Bitcast\n",
      "WARNING:tensorflow:Using a while_loop for converting StatelessRandomUniformV2\n",
      "WARNING:tensorflow:Using a while_loop for converting ImageProjectiveTransformV3\n",
      "WARNING:tensorflow:Using a while_loop for converting RngReadAndSkip\n",
      "WARNING:tensorflow:Using a while_loop for converting Bitcast\n",
      "WARNING:tensorflow:Using a while_loop for converting Bitcast\n",
      "WARNING:tensorflow:Using a while_loop for converting StatelessRandomUniformFullIntV2\n",
      "WARNING:tensorflow:Using a while_loop for converting StatelessRandomGetKeyCounter\n",
      "WARNING:tensorflow:Using a while_loop for converting StatelessRandomUniformV2\n",
      "WARNING:tensorflow:Using a while_loop for converting AdjustContrastv2\n"
     ]
    }
   ],
   "source": [
    "model = build_model(NUM_CLASSES)"
   ]
  },
  {
   "cell_type": "code",
   "execution_count": 27,
   "id": "766f53e3-c459-44e8-a97e-7e51784ab5b9",
   "metadata": {
    "id": "766f53e3-c459-44e8-a97e-7e51784ab5b9",
    "scrolled": true,
    "tags": []
   },
   "outputs": [],
   "source": [
    "!mkdir checkpoints/\n",
    "checkpoint_path = 'checkpoints/'+\"cp.ckpt\"\n",
    "from keras.callbacks import Callback\n",
    "class EarlyStoppingByLossVal(Callback):\n",
    "    def __init__(self, monitor='val_loss', value=0.00001, verbose=0):\n",
    "        super(Callback, self).__init__()\n",
    "        self.monitor = monitor\n",
    "        self.value = value\n",
    "        self.verbose = verbose\n",
    "\n",
    "    def on_epoch_end(self, epoch, logs={}):\n",
    "        current = logs.get(self.monitor)\n",
    "        if current is None:\n",
    "            warnings.warn(\"Early stopping requires %s available!\" % self.monitor, RuntimeWarning)\n",
    "\n",
    "        if current < self.value:\n",
    "            if self.verbose > 0:\n",
    "                print(\"Epoch %05d: early stopping THR\" % epoch)\n",
    "            self.model.stop_training = True\n",
    "            "
   ]
  },
  {
   "cell_type": "code",
   "execution_count": 28,
   "id": "cfe21dd6-c2aa-42d5-b386-eed12f20d769",
   "metadata": {
    "id": "cfe21dd6-c2aa-42d5-b386-eed12f20d769",
    "tags": []
   },
   "outputs": [],
   "source": [
    "callback = tf.keras.callbacks.ModelCheckpoint(filepath=checkpoint_path,\n",
    "                                                 save_weights_only=True,\n",
    "                                                 verbose=1)\n",
    "early_stop = tf.keras.callbacks.EarlyStopping(\n",
    "    monitor='val_loss',\n",
    "    min_delta=0,\n",
    "    patience=2,\n",
    "    verbose=0,\n",
    "    mode='auto',\n",
    "    baseline=None,\n",
    "    restore_best_weights=False\n",
    ")"
   ]
  },
  {
   "cell_type": "code",
   "execution_count": 29,
   "id": "PyHkdT1Ot6JR",
   "metadata": {
    "colab": {
     "base_uri": "https://localhost:8080/"
    },
    "id": "PyHkdT1Ot6JR",
    "outputId": "539c6d34-a9ed-4c38-d98d-2a9c3f47fbf5"
   },
   "outputs": [
    {
     "name": "stdout",
     "output_type": "stream",
     "text": [
      "Epoch 1/10\n"
     ]
    },
    {
     "name": "stderr",
     "output_type": "stream",
     "text": [
      "WARNING:tensorflow:Using a while_loop for converting RngReadAndSkip\n",
      "WARNING:tensorflow:Using a while_loop for converting Bitcast\n",
      "WARNING:tensorflow:Using a while_loop for converting Bitcast\n",
      "WARNING:tensorflow:Using a while_loop for converting StatelessRandomUniformV2\n",
      "WARNING:tensorflow:Using a while_loop for converting RngReadAndSkip\n",
      "WARNING:tensorflow:Using a while_loop for converting Bitcast\n",
      "WARNING:tensorflow:Using a while_loop for converting Bitcast\n",
      "WARNING:tensorflow:Using a while_loop for converting StatelessRandomUniformV2\n",
      "WARNING:tensorflow:Using a while_loop for converting ImageProjectiveTransformV3\n",
      "WARNING:tensorflow:Using a while_loop for converting RngReadAndSkip\n",
      "WARNING:tensorflow:Using a while_loop for converting Bitcast\n",
      "WARNING:tensorflow:Using a while_loop for converting Bitcast\n",
      "WARNING:tensorflow:Using a while_loop for converting StatelessRandomUniformFullIntV2\n",
      "WARNING:tensorflow:Using a while_loop for converting StatelessRandomGetKeyCounter\n",
      "WARNING:tensorflow:Using a while_loop for converting StatelessRandomUniformV2\n",
      "WARNING:tensorflow:Using a while_loop for converting AdjustContrastv2\n",
      "WARNING:tensorflow:Using a while_loop for converting RngReadAndSkip\n",
      "WARNING:tensorflow:Using a while_loop for converting Bitcast\n",
      "WARNING:tensorflow:Using a while_loop for converting Bitcast\n",
      "WARNING:tensorflow:Using a while_loop for converting StatelessRandomUniformV2\n",
      "WARNING:tensorflow:Using a while_loop for converting RngReadAndSkip\n",
      "WARNING:tensorflow:Using a while_loop for converting Bitcast\n",
      "WARNING:tensorflow:Using a while_loop for converting Bitcast\n",
      "WARNING:tensorflow:Using a while_loop for converting StatelessRandomUniformV2\n",
      "WARNING:tensorflow:Using a while_loop for converting ImageProjectiveTransformV3\n",
      "WARNING:tensorflow:Using a while_loop for converting RngReadAndSkip\n",
      "WARNING:tensorflow:Using a while_loop for converting Bitcast\n",
      "WARNING:tensorflow:Using a while_loop for converting Bitcast\n",
      "WARNING:tensorflow:Using a while_loop for converting StatelessRandomUniformFullIntV2\n",
      "WARNING:tensorflow:Using a while_loop for converting StatelessRandomGetKeyCounter\n",
      "WARNING:tensorflow:Using a while_loop for converting StatelessRandomUniformV2\n",
      "WARNING:tensorflow:Using a while_loop for converting AdjustContrastv2\n"
     ]
    },
    {
     "name": "stdout",
     "output_type": "stream",
     "text": [
      "94/94 [==============================] - ETA: 0s - loss: 0.3589 - accuracy: 0.9110\n",
      "Epoch 1: saving model to checkpoints/cp.ckpt\n",
      "94/94 [==============================] - 41s 259ms/step - loss: 0.3589 - accuracy: 0.9110 - val_loss: 0.2545 - val_accuracy: 0.8918\n",
      "Epoch 2/10\n",
      "94/94 [==============================] - ETA: 0s - loss: 0.1873 - accuracy: 0.9496\n",
      "Epoch 2: saving model to checkpoints/cp.ckpt\n",
      "94/94 [==============================] - 24s 258ms/step - loss: 0.1873 - accuracy: 0.9496 - val_loss: 0.1588 - val_accuracy: 0.9481\n",
      "Epoch 3/10\n",
      "94/94 [==============================] - ETA: 0s - loss: 0.2259 - accuracy: 0.9539\n",
      "Epoch 3: saving model to checkpoints/cp.ckpt\n",
      "94/94 [==============================] - 22s 233ms/step - loss: 0.2259 - accuracy: 0.9539 - val_loss: 0.0946 - val_accuracy: 0.9827\n",
      "Epoch 4/10\n",
      "94/94 [==============================] - ETA: 0s - loss: 0.2999 - accuracy: 0.9507\n",
      "Epoch 4: saving model to checkpoints/cp.ckpt\n",
      "94/94 [==============================] - 23s 246ms/step - loss: 0.2999 - accuracy: 0.9507 - val_loss: 0.0839 - val_accuracy: 0.9827\n",
      "Epoch 5/10\n",
      "94/94 [==============================] - ETA: 0s - loss: 0.1421 - accuracy: 0.9636\n",
      "Epoch 5: saving model to checkpoints/cp.ckpt\n",
      "94/94 [==============================] - 23s 242ms/step - loss: 0.1421 - accuracy: 0.9636 - val_loss: 0.1178 - val_accuracy: 0.9740\n",
      "Epoch 6/10\n",
      "94/94 [==============================] - ETA: 0s - loss: 0.1288 - accuracy: 0.9668\n",
      "Epoch 6: saving model to checkpoints/cp.ckpt\n",
      "94/94 [==============================] - 22s 231ms/step - loss: 0.1288 - accuracy: 0.9668 - val_loss: 0.0840 - val_accuracy: 0.9870\n"
     ]
    }
   ],
   "source": [
    "history = model.fit(train_batches, epochs=EPOCHS, validation_data=valid_batches, verbose=1,callbacks=[callback,early_stop])\n",
    "    "
   ]
  },
  {
   "cell_type": "code",
   "execution_count": 30,
   "id": "5a25dc1e-ca90-496e-93ad-d13ff4b8a3f9",
   "metadata": {
    "id": "5a25dc1e-ca90-496e-93ad-d13ff4b8a3f9"
   },
   "outputs": [],
   "source": [
    "model.save(\"saved_model.h5\")"
   ]
  },
  {
   "cell_type": "code",
   "execution_count": 31,
   "id": "4991b2c1-c1c0-4ab7-9565-425d99a9dc86",
   "metadata": {
    "colab": {
     "base_uri": "https://localhost:8080/",
     "height": 299
    },
    "id": "4991b2c1-c1c0-4ab7-9565-425d99a9dc86",
    "outputId": "114c4f4b-8cd5-4f07-c140-362d6c7b22c0"
   },
   "outputs": [
    {
     "data": {
      "image/png": "[encoded data removed]",
      "text/plain": [
       "<Figure size 432x288 with 1 Axes>"
      ]
     },
     "metadata": {},
     "output_type": "display_data"
    }
   ],
   "source": [
    "N = 6\n",
    "plt.style.use(\"ggplot\")\n",
    "plt.figure()\n",
    "plt.plot(np.arange(0, N), history.history[\"loss\"], label=\"train_loss\")\n",
    "plt.plot(np.arange(0, N), history.history[\"val_loss\"], label=\"val_loss\")\n",
    "plt.plot(np.arange(0, N), history.history[\"accuracy\"], label=\"train_acc\")\n",
    "plt.plot(np.arange(0, N), history.history[\"val_accuracy\"], label=\"val_acc\")\n",
    "plt.title(\"Training Loss and Accuracy\")\n",
    "plt.xlabel(\"Epoch #\")\n",
    "plt.ylabel(\"Loss/Accuracy\")\n",
    "plt.legend(loc=\"lower left\")\n",
    "plt.savefig(\"lossVSaccuracy.png\")"
   ]
  },
  {
   "cell_type": "markdown",
   "id": "b3e574b0-598e-445d-9dd6-93a020bb29ac",
   "metadata": {
    "id": "b3e574b0-598e-445d-9dd6-93a020bb29ac"
   },
   "source": [
    "# Model Evaluation :"
   ]
  },
  {
   "cell_type": "markdown",
   "id": "c6abbfe5-09b7-4841-86c1-e6fa31aa9767",
   "metadata": {},
   "source": [
    "- The test accuracy of the model is 98.7% on the provided test dataset.\n",
    "-  Classification Report:\n",
    "    class_name |precision | recall |f1-score | support \n",
    "    -----------|----------|--------|---------|------------\n",
    "    blackspot  | 0.96     | 0.99   |  0.97   |    138\n",
    "      canker   |    0.99  |  0.96  |   0.97  |    148\n",
    "      fresh    |   1.00   |   1.00 |  1.00   |    164\n",
    "    grenning   |   1.00   |  1.00  |   1.00  |    176\n",
    "    accuracy   |          |        |    0.99 |    626\n",
    "   macro avg   |    0.99  |   0.99 |    0.99 |    626\n",
    "   weighted avg|    0.99  |   0.99 |    0.99 |     626\n",
    "   \n",
    "- Confusion Matrix:    \n",
    "            \n",
    "    ![An image](confusion_matrix.png)\n",
    "   \n",
    "   "
   ]
  },
  {
   "cell_type": "code",
   "execution_count": 33,
   "id": "1e064cc3-2381-46c9-a6fe-f55fbc5be357",
   "metadata": {
    "colab": {
     "base_uri": "https://localhost:8080/"
    },
    "id": "1e064cc3-2381-46c9-a6fe-f55fbc5be357",
    "outputId": "e94f34f1-3e65-40c0-8bb5-61edde909f66"
   },
   "outputs": [
    {
     "name": "stdout",
     "output_type": "stream",
     "text": [
      "Accuarcy: 98.7220447284345 %\n"
     ]
    }
   ],
   "source": [
    "def test_model(model,test_batches):\n",
    "    #Testing the Model\n",
    "    test_labels = test_batches.classes\n",
    "    \n",
    "    predictions = model.predict(test_batches,steps=len(test_batches),verbose=0)\n",
    "    \n",
    "    acc = 0\n",
    "    pred_arr = []\n",
    "    for i in range(len(test_labels)):\n",
    "        actual_class = test_labels[i]\n",
    "        if predictions[i][actual_class] > 0.5 : \n",
    "            acc += 1\n",
    "\n",
    "\n",
    "        \n",
    "        values = predictions[i]\n",
    "        index_max = np.argmax(values)\n",
    "        \n",
    "        pred_arr.append(index_max)\n",
    "    print(\"Accuarcy:\",(acc/len(test_labels))*100,\"%\")\n",
    "    return test_labels, np.asarray(pred_arr)\n",
    "\n",
    "\n",
    "#Testing the Model\n",
    "test_labels, pred_labels = test_model(model,test_batches)"
   ]
  },
  {
   "cell_type": "code",
   "execution_count": 34,
   "id": "wcPCX1Yi4kc_",
   "metadata": {
    "colab": {
     "base_uri": "https://localhost:8080/"
    },
    "id": "wcPCX1Yi4kc_",
    "outputId": "c28677a9-0ca5-470f-c523-2a151682c256"
   },
   "outputs": [
    {
     "name": "stdout",
     "output_type": "stream",
     "text": [
      "Classification Report:\n",
      "               precision    recall  f1-score   support\n",
      "\n",
      "   blackspot       0.96      0.99      0.97       138\n",
      "      canker       0.99      0.96      0.97       148\n",
      "       fresh       1.00      1.00      1.00       164\n",
      "    grenning       1.00      1.00      1.00       176\n",
      "\n",
      "    accuracy                           0.99       626\n",
      "   macro avg       0.99      0.99      0.99       626\n",
      "weighted avg       0.99      0.99      0.99       626\n",
      "\n"
     ]
    }
   ],
   "source": [
    "print('Classification Report:\\n', classification_report(test_labels, pred_labels, target_names = class_names))"
   ]
  },
  {
   "cell_type": "code",
   "execution_count": 35,
   "id": "Mpr2XXCxzdt3",
   "metadata": {
    "colab": {
     "base_uri": "https://localhost:8080/",
     "height": 282
    },
    "id": "Mpr2XXCxzdt3",
    "outputId": "01d525f5-11b9-4316-aa53-3b057aaa933f"
   },
   "outputs": [
    {
     "data": {
      "image/png": "[encoded data removed]",
      "text/plain": [
       "<Figure size 432x288 with 2 Axes>"
      ]
     },
     "metadata": {},
     "output_type": "display_data"
    }
   ],
   "source": [
    "cnf = confusion_matrix(test_labels, pred_labels)\n",
    "cnf_df = pd.DataFrame(cnf,columns = class_names,index=class_names)\n",
    "ax = sns.heatmap(cnf_df,annot=True, cmap='Blues')\n",
    "ax.set(xlabel='Ground Truth', ylabel='Predicted')\n",
    "plt.savefig(\"confusion_matrix.png\")"
   ]
  },
  {
   "cell_type": "code",
   "execution_count": 36,
   "id": "88d1767f-d322-4cf1-b022-8eb94a719c10",
   "metadata": {
    "colab": {
     "base_uri": "https://localhost:8080/"
    },
    "id": "88d1767f-d322-4cf1-b022-8eb94a719c10",
    "outputId": "9436b410-f838-48d0-fd4a-659dbba0a24c",
    "scrolled": true,
    "tags": []
   },
   "outputs": [
    {
     "name": "stderr",
     "output_type": "stream",
     "text": [
      "WARNING:tensorflow:Using a while_loop for converting RngReadAndSkip\n",
      "WARNING:tensorflow:Using a while_loop for converting Bitcast\n",
      "WARNING:tensorflow:Using a while_loop for converting Bitcast\n",
      "WARNING:tensorflow:Using a while_loop for converting StatelessRandomUniformFullIntV2\n",
      "WARNING:tensorflow:Using a while_loop for converting StatelessRandomGetKeyCounter\n",
      "WARNING:tensorflow:Using a while_loop for converting StatelessRandomUniformV2\n",
      "WARNING:tensorflow:Using a while_loop for converting AdjustContrastv2\n",
      "WARNING:tensorflow:Using a while_loop for converting RngReadAndSkip\n",
      "WARNING:tensorflow:Using a while_loop for converting Bitcast\n",
      "WARNING:tensorflow:Using a while_loop for converting Bitcast\n",
      "WARNING:tensorflow:Using a while_loop for converting StatelessRandomUniformV2\n",
      "WARNING:tensorflow:Using a while_loop for converting RngReadAndSkip\n",
      "WARNING:tensorflow:Using a while_loop for converting Bitcast\n",
      "WARNING:tensorflow:Using a while_loop for converting Bitcast\n",
      "WARNING:tensorflow:Using a while_loop for converting StatelessRandomUniformV2\n",
      "WARNING:tensorflow:Using a while_loop for converting ImageProjectiveTransformV3\n",
      "WARNING:tensorflow:Using a while_loop for converting RngReadAndSkip\n",
      "WARNING:tensorflow:Using a while_loop for converting Bitcast\n",
      "WARNING:tensorflow:Using a while_loop for converting Bitcast\n",
      "WARNING:tensorflow:Using a while_loop for converting StatelessRandomUniformV2\n",
      "WARNING:tensorflow:Using a while_loop for converting RngReadAndSkip\n",
      "WARNING:tensorflow:Using a while_loop for converting Bitcast\n",
      "WARNING:tensorflow:Using a while_loop for converting Bitcast\n",
      "WARNING:tensorflow:Using a while_loop for converting StatelessRandomUniformV2\n",
      "WARNING:tensorflow:Using a while_loop for converting ImageProjectiveTransformV3\n",
      "WARNING:tensorflow:Using a while_loop for converting RngReadAndSkip\n",
      "WARNING:tensorflow:Using a while_loop for converting Bitcast\n",
      "WARNING:tensorflow:Using a while_loop for converting Bitcast\n",
      "WARNING:tensorflow:Using a while_loop for converting StatelessRandomUniformFullIntV2\n",
      "WARNING:tensorflow:Using a while_loop for converting StatelessRandomGetKeyCounter\n",
      "WARNING:tensorflow:Using a while_loop for converting StatelessRandomUniformV2\n",
      "WARNING:tensorflow:Using a while_loop for converting AdjustContrastv2\n",
      "WARNING:tensorflow:Using a while_loop for converting RngReadAndSkip\n",
      "WARNING:tensorflow:Using a while_loop for converting Bitcast\n",
      "WARNING:tensorflow:Using a while_loop for converting Bitcast\n",
      "WARNING:tensorflow:Using a while_loop for converting StatelessRandomUniformV2\n",
      "WARNING:tensorflow:Using a while_loop for converting RngReadAndSkip\n",
      "WARNING:tensorflow:Using a while_loop for converting Bitcast\n",
      "WARNING:tensorflow:Using a while_loop for converting Bitcast\n",
      "WARNING:tensorflow:Using a while_loop for converting StatelessRandomUniformV2\n",
      "WARNING:tensorflow:Using a while_loop for converting ImageProjectiveTransformV3\n",
      "WARNING:tensorflow:Using a while_loop for converting RngReadAndSkip\n",
      "WARNING:tensorflow:Using a while_loop for converting Bitcast\n",
      "WARNING:tensorflow:Using a while_loop for converting Bitcast\n",
      "WARNING:tensorflow:Using a while_loop for converting StatelessRandomUniformFullIntV2\n",
      "WARNING:tensorflow:Using a while_loop for converting StatelessRandomGetKeyCounter\n",
      "WARNING:tensorflow:Using a while_loop for converting StatelessRandomUniformV2\n",
      "WARNING:tensorflow:Using a while_loop for converting AdjustContrastv2\n",
      "WARNING:tensorflow:Using a while_loop for converting RngReadAndSkip\n",
      "WARNING:tensorflow:Using a while_loop for converting Bitcast\n",
      "WARNING:tensorflow:Using a while_loop for converting Bitcast\n",
      "WARNING:tensorflow:Using a while_loop for converting StatelessRandomUniformV2\n",
      "WARNING:tensorflow:Using a while_loop for converting RngReadAndSkip\n",
      "WARNING:tensorflow:Using a while_loop for converting Bitcast\n",
      "WARNING:tensorflow:Using a while_loop for converting Bitcast\n",
      "WARNING:tensorflow:Using a while_loop for converting StatelessRandomUniformV2\n",
      "WARNING:tensorflow:Using a while_loop for converting ImageProjectiveTransformV3\n",
      "WARNING:tensorflow:Using a while_loop for converting RngReadAndSkip\n",
      "WARNING:tensorflow:Using a while_loop for converting Bitcast\n",
      "WARNING:tensorflow:Using a while_loop for converting Bitcast\n",
      "WARNING:tensorflow:Using a while_loop for converting StatelessRandomUniformFullIntV2\n",
      "WARNING:tensorflow:Using a while_loop for converting StatelessRandomGetKeyCounter\n",
      "WARNING:tensorflow:Using a while_loop for converting StatelessRandomUniformV2\n",
      "WARNING:tensorflow:Using a while_loop for converting AdjustContrastv2\n",
      "WARNING:absl:Found untraced functions such as _jit_compiled_convolution_op, _jit_compiled_convolution_op, _jit_compiled_convolution_op, _jit_compiled_convolution_op, _jit_compiled_convolution_op while saving (showing 5 of 81). These functions will not be directly callable after loading.\n"
     ]
    }
   ],
   "source": [
    "!mkdir saved_model\n",
    "tf.saved_model.save(model, \"saved_model/\")\n",
    "!mkdir tfliteModels"
   ]
  },
  {
   "cell_type": "markdown",
   "id": "d535f043-e77b-4ee3-8206-366823d0ee35",
   "metadata": {},
   "source": [
    "# Real-world application : "
   ]
  },
  {
   "cell_type": "markdown",
   "id": "0038ff28-624f-49a2-b025-bed9052acad6",
   "metadata": {
    "id": "0038ff28-624f-49a2-b025-bed9052acad6"
   },
   "source": [
    "- ## Model Quantization"
   ]
  },
  {
   "cell_type": "markdown",
   "id": "9d565214-dff0-4372-96d3-c5a0ad736add",
   "metadata": {},
   "source": [
    "Post-training quantization is used to reduce the model size from  17.8 Mb to 4.9 Mb. Accuracy of tflite model 98.4% and Accuracy of quantized model 98.7%.\n",
    "\n"
   ]
  },
  {
   "cell_type": "code",
   "execution_count": null,
   "id": "be5a5853-2273-4feb-99f5-35eceb92172c",
   "metadata": {
    "id": "be5a5853-2273-4feb-99f5-35eceb92172c"
   },
   "outputs": [],
   "source": [
    "# Quantized model paths \n",
    "TF_LITE_PATH = \"tfliteModels/tflite_model.tflite\"\n",
    "TF_LITE_QUANT_PATH = \"tfliteModels/tflite_quantized_model.tflite\""
   ]
  },
  {
   "cell_type": "code",
   "execution_count": null,
   "id": "19f39461-2bde-4ce3-aca6-2e587c570eb5",
   "metadata": {},
   "outputs": [],
   "source": [
    "# converting model to tflite \n",
    "converter = tf.lite.TFLiteConverter.from_saved_model(\"saved_model/\")\n",
    "tf_lite_model = converter.convert()\n",
    "\n",
    "#post-training quantisation\n",
    "converter.optimizations = [tf.lite.Optimize.DEFAULT]\n",
    "tf_lite_quant_model = converter.convert()\n",
    "with open(TF_LITE_PATH,\"wb\") as f:\n",
    "    f.write(tf_lite_model)\n",
    "with open(TF_LITE_QUANT_PATH,\"wb\") as f:\n",
    "    f.write(tf_lite_quant_model)"
   ]
  },
  {
   "cell_type": "markdown",
   "id": "34cf5d8b-d7be-4514-b88a-140eacfff00f",
   "metadata": {
    "id": "34cf5d8b-d7be-4514-b88a-140eacfff00f"
   },
   "source": [
    "- ## Evaluating quantized models accuracy "
   ]
  },
  {
   "cell_type": "code",
   "execution_count": 39,
   "id": "4f780511-0b18-4493-b6f5-b7337270203f",
   "metadata": {
    "id": "4f780511-0b18-4493-b6f5-b7337270203f",
    "tags": []
   },
   "outputs": [],
   "source": [
    "def get_predictions(TF_LITE_PATH,class_names):\n",
    "    model_path = TF_LITE_PATH\n",
    "    interpreter = tf.lite.Interpreter(model_path=model_path)\n",
    "    input_details = interpreter.get_input_details()\n",
    "    output_details = interpreter.get_output_details()\n",
    "    ### Cerate interpreter for the specified model\n",
    "    \n",
    "    input_shape = input_details[0]['shape']\n",
    "\n",
    "    size = input_shape[1:3]\n",
    "    pred_arr = []\n",
    "    \n",
    "    for i in range(0, len(class_names)):\n",
    "\n",
    "        for images in os.listdir(test_path+class_names[i]):\n",
    "\n",
    "            ### Fetch image & preprocess it to match the input requirements of the model\n",
    "            \n",
    "            file_path = os.path.join(test_path,class_names[i], images)\n",
    "\n",
    "            img = Image.open(file_path) #.convert('RGB')\n",
    "            img = img.resize(size)\n",
    "            img = np.array(img)\n",
    "            img = img.astype(np.float32)\n",
    "            \n",
    "            ### Now allocate tensors so that we can use the set_tensor() method to feed the processed_image\n",
    "            processed_image = np.expand_dims(img, axis=0)\n",
    "            interpreter.allocate_tensors()\n",
    "            interpreter.set_tensor(input_details[0]['index'], processed_image)\n",
    "            interpreter.invoke()\n",
    "            predictions = interpreter.get_tensor(output_details[0]['index'])[0]\n",
    "            pred_arr.append(predictions)\n",
    "    \n",
    "    return pred_arr\n",
    "\n",
    "\n",
    "    "
   ]
  },
  {
   "cell_type": "code",
   "execution_count": 40,
   "id": "a7df755f-4689-4e74-9e24-3ccd39e77702",
   "metadata": {
    "id": "a7df755f-4689-4e74-9e24-3ccd39e77702",
    "tags": []
   },
   "outputs": [],
   "source": [
    "def eval(TF_LITE_PATH,class_names):\n",
    "    pred_arr = get_predictions(TF_LITE_PATH,class_names)\n",
    "    pred_labels = []\n",
    "    for i in pred_arr:\n",
    "      #print(i)\n",
    "      pred_labels.append(i.argmax(axis=0))\n",
    "    test_labels = test_batches.classes\n",
    "    pred_labels_arr = np.array(pred_labels)\n",
    "    acc = accuracy_score(np.array(test_labels), np.array(pred_labels_arr))\n",
    "    return acc\n"
   ]
  },
  {
   "cell_type": "code",
   "execution_count": 41,
   "id": "7057b09a-5829-4551-9e97-10ff2d7c9096",
   "metadata": {
    "id": "7057b09a-5829-4551-9e97-10ff2d7c9096"
   },
   "outputs": [],
   "source": [
    "acc = eval(TF_LITE_PATH,class_names)\n",
    "acc_quant = eval(TF_LITE_QUANT_PATH,class_names)\n"
   ]
  },
  {
   "cell_type": "code",
   "execution_count": 42,
   "id": "jEYta65Ry4-K",
   "metadata": {
    "colab": {
     "base_uri": "https://localhost:8080/"
    },
    "id": "jEYta65Ry4-K",
    "outputId": "b335296d-e610-461d-ef97-5b0c8885a725"
   },
   "outputs": [
    {
     "name": "stdout",
     "output_type": "stream",
     "text": [
      "Accuracy of tflite model 98.40255591054313 and Accuracy of quantised model 98.7220447284345\n"
     ]
    }
   ],
   "source": [
    "print(f\"Accuracy of tflite model {acc*100} and Accuracy of quantised model {acc_quant*100}\" )"
   ]
  },
  {
   "cell_type": "code",
   "execution_count": 43,
   "id": "XI7s7JjbzcIN",
   "metadata": {
    "colab": {
     "base_uri": "https://localhost:8080/"
    },
    "id": "XI7s7JjbzcIN",
    "outputId": "266547de-dc6b-423c-f337-16791fa42c25"
   },
   "outputs": [
    {
     "name": "stdout",
     "output_type": "stream",
     "text": [
      "Float model in Mb: 17.80327606201172\n",
      "Quantized model in Mb: 4.966361999511719\n"
     ]
    }
   ],
   "source": [
    "print(\"Float model in Mb:\", os.path.getsize(TF_LITE_PATH) / float(2**20))\n",
    "print(\"Quantized model in Mb:\", os.path.getsize(TF_LITE_QUANT_PATH) / float(2**20))"
   ]
  },
  {
   "cell_type": "code",
   "execution_count": 43,
   "id": "6DeTe3S1zzsG",
   "metadata": {
    "id": "6DeTe3S1zzsG"
   },
   "outputs": [],
   "source": []
  }
 ],
 "metadata": {
  "accelerator": "GPU",
  "colab": {
   "provenance": []
  },
  "gpuClass": "standard",
  "kernelspec": {
   "display_name": "Python 3",
   "language": "python",
   "name": "python3"
  },
  "language_info": {
   "codemirror_mode": {
    "name": "ipython",
    "version": 3
   },
   "file_extension": ".py",
   "mimetype": "text/x-python",
   "name": "python",
   "nbconvert_exporter": "python",
   "pygments_lexer": "ipython3",
   "version": "3.9.12"
  }
 },
 "nbformat": 4,
 "nbformat_minor": 5
}
